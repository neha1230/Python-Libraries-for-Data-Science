{
 "cells": [
  {
   "cell_type": "code",
   "execution_count": 5,
   "metadata": {},
   "outputs": [
    {
     "data": {
      "text/plain": [
       "'1.14.3'"
      ]
     },
     "execution_count": 5,
     "metadata": {},
     "output_type": "execute_result"
    }
   ],
   "source": [
    "import numpy\n",
    "numpy.version.version"
   ]
  },
  {
   "cell_type": "code",
   "execution_count": 6,
   "metadata": {},
   "outputs": [],
   "source": [
    "import numpy as np"
   ]
  },
  {
   "cell_type": "code",
   "execution_count": 3,
   "metadata": {
    "collapsed": true
   },
   "outputs": [],
   "source": [
    "my_list = [1,2,3,4]"
   ]
  },
  {
   "cell_type": "code",
   "execution_count": 4,
   "metadata": {},
   "outputs": [
    {
     "data": {
      "text/plain": [
       "array([1, 2, 3, 4])"
      ]
     },
     "execution_count": 4,
     "metadata": {},
     "output_type": "execute_result"
    }
   ],
   "source": [
    "np.array(my_list)"
   ]
  },
  {
   "cell_type": "code",
   "execution_count": 5,
   "metadata": {
    "collapsed": true
   },
   "outputs": [],
   "source": [
    "arr = np.array(my_list)"
   ]
  },
  {
   "cell_type": "code",
   "execution_count": 6,
   "metadata": {},
   "outputs": [
    {
     "data": {
      "text/plain": [
       "array([1, 2, 3, 4])"
      ]
     },
     "execution_count": 6,
     "metadata": {},
     "output_type": "execute_result"
    }
   ],
   "source": [
    "arr"
   ]
  },
  {
   "cell_type": "code",
   "execution_count": 7,
   "metadata": {
    "collapsed": true
   },
   "outputs": [],
   "source": [
    "my_matrix = [[1,2,3],[4,5,6],[7,8,9]]"
   ]
  },
  {
   "cell_type": "code",
   "execution_count": 8,
   "metadata": {},
   "outputs": [
    {
     "data": {
      "text/plain": [
       "[[1, 2, 3], [4, 5, 6], [7, 8, 9]]"
      ]
     },
     "execution_count": 8,
     "metadata": {},
     "output_type": "execute_result"
    }
   ],
   "source": [
    "my_matrix"
   ]
  },
  {
   "cell_type": "code",
   "execution_count": 9,
   "metadata": {},
   "outputs": [
    {
     "data": {
      "text/plain": [
       "array([[1, 2, 3],\n",
       "       [4, 5, 6],\n",
       "       [7, 8, 9]])"
      ]
     },
     "execution_count": 9,
     "metadata": {},
     "output_type": "execute_result"
    }
   ],
   "source": [
    "\n",
    "\n",
    "\n",
    "\n",
    "np.array(my_matrix)"
   ]
  },
  {
   "cell_type": "markdown",
   "metadata": {},
   "source": [
    " Built in Methods\n",
    "there are lots of methods to generate arrays"
   ]
  },
  {
   "cell_type": "markdown",
   "metadata": {},
   "source": [
    " 1 arange\n",
    "returns evenly spaced values within a given interval"
   ]
  },
  {
   "cell_type": "code",
   "execution_count": 10,
   "metadata": {},
   "outputs": [
    {
     "data": {
      "text/plain": [
       "array([0, 1, 2, 3, 4, 5, 6, 7, 8, 9])"
      ]
     },
     "execution_count": 10,
     "metadata": {},
     "output_type": "execute_result"
    }
   ],
   "source": [
    "np.arange(0,10)"
   ]
  },
  {
   "cell_type": "markdown",
   "metadata": {},
   "source": [
    "here we can note that if we have given an interval as 0 to 10 10 will not be included in the final output\n",
    "let us see some more example"
   ]
  },
  {
   "cell_type": "code",
   "execution_count": 11,
   "metadata": {},
   "outputs": [
    {
     "data": {
      "text/plain": [
       "array([ 5,  6,  7,  8,  9, 10, 11, 12, 13, 14, 15, 16, 17, 18, 19, 20, 21,\n",
       "       22, 23, 24, 25, 26, 27, 28, 29, 30, 31, 32, 33, 34, 35, 36, 37, 38,\n",
       "       39, 40, 41, 42, 43, 44, 45, 46, 47, 48, 49, 50, 51, 52, 53, 54, 55,\n",
       "       56, 57, 58, 59, 60])"
      ]
     },
     "execution_count": 11,
     "metadata": {},
     "output_type": "execute_result"
    }
   ],
   "source": [
    "np.arange(5,61)"
   ]
  },
  {
   "cell_type": "code",
   "execution_count": 12,
   "metadata": {},
   "outputs": [
    {
     "data": {
      "text/plain": [
       "array([0, 1, 2, 3, 4])"
      ]
     },
     "execution_count": 12,
     "metadata": {},
     "output_type": "execute_result"
    }
   ],
   "source": [
    "np.arange(5)"
   ]
  },
  {
   "cell_type": "code",
   "execution_count": 13,
   "metadata": {},
   "outputs": [
    {
     "data": {
      "text/plain": [
       "array([ 0,  1,  2,  3,  4,  5,  6,  7,  8,  9, 10, 11, 12, 13, 14, 15, 16,\n",
       "       17, 18, 19, 20, 21, 22, 23, 24, 25, 26, 27, 28, 29, 30, 31, 32, 33,\n",
       "       34, 35, 36, 37, 38, 39, 40, 41, 42, 43, 44, 45, 46, 47, 48, 49, 50,\n",
       "       51, 52, 53, 54, 55, 56, 57, 58, 59, 60, 61, 62, 63, 64, 65, 66, 67,\n",
       "       68, 69, 70, 71, 72, 73, 74, 75, 76, 77, 78, 79])"
      ]
     },
     "execution_count": 13,
     "metadata": {},
     "output_type": "execute_result"
    }
   ],
   "source": [
    "np.arange(80)"
   ]
  },
  {
   "cell_type": "code",
   "execution_count": 5,
   "metadata": {},
   "outputs": [
    {
     "data": {
      "text/plain": [
       "[array([ 0,  1,  2,  3,  4,  5,  6,  7,  8,  9, 10]),\n",
       " array([ 0,  1,  2,  3,  4,  5,  6,  7,  8,  9, 10, 11, 12, 13, 14, 15, 16,\n",
       "        17, 18, 19])]"
      ]
     },
     "execution_count": 5,
     "metadata": {},
     "output_type": "execute_result"
    }
   ],
   "source": [
    "np.arange(0,11),np.arange(0,20,1)"
   ]
  },
  {
   "cell_type": "code",
   "execution_count": 14,
   "metadata": {},
   "outputs": [
    {
     "data": {
      "text/plain": [
       "array([], dtype=int32)"
      ]
     },
     "execution_count": 14,
     "metadata": {},
     "output_type": "execute_result"
    }
   ],
   "source": [
    "np.arange(0,0)"
   ]
  },
  {
   "cell_type": "code",
   "execution_count": 15,
   "metadata": {
    "collapsed": true
   },
   "outputs": [],
   "source": [
    "my_list1 = [ \"chatur\", 3, \"idiots\"]"
   ]
  },
  {
   "cell_type": "code",
   "execution_count": 16,
   "metadata": {},
   "outputs": [
    {
     "data": {
      "text/plain": [
       "array(['chatur', '3', 'idiots'],\n",
       "      dtype='<U6')"
      ]
     },
     "execution_count": 16,
     "metadata": {},
     "output_type": "execute_result"
    }
   ],
   "source": [
    "np.array(my_list1)"
   ]
  },
  {
   "cell_type": "code",
   "execution_count": 17,
   "metadata": {
    "collapsed": true
   },
   "outputs": [],
   "source": [
    "my_list1 = [\"chatur\", \"rama\", \"linga\"]"
   ]
  },
  {
   "cell_type": "code",
   "execution_count": 18,
   "metadata": {},
   "outputs": [
    {
     "data": {
      "text/plain": [
       "array(['chatur', 'rama', 'linga'],\n",
       "      dtype='<U6')"
      ]
     },
     "execution_count": 18,
     "metadata": {},
     "output_type": "execute_result"
    }
   ],
   "source": [
    "np.array(my_list1)"
   ]
  },
  {
   "cell_type": "markdown",
   "metadata": {},
   "source": [
    "zeros and ones \n",
    "generate arrays of zeros and ones"
   ]
  },
  {
   "cell_type": "code",
   "execution_count": 19,
   "metadata": {},
   "outputs": [
    {
     "data": {
      "text/plain": [
       "array([ 0.,  0.,  0.])"
      ]
     },
     "execution_count": 19,
     "metadata": {},
     "output_type": "execute_result"
    }
   ],
   "source": [
    "np.zeros(3)"
   ]
  },
  {
   "cell_type": "code",
   "execution_count": 20,
   "metadata": {},
   "outputs": [
    {
     "data": {
      "text/plain": [
       "array([ 1.,  1.,  1.,  1.,  1.,  1.])"
      ]
     },
     "execution_count": 20,
     "metadata": {},
     "output_type": "execute_result"
    }
   ],
   "source": [
    "np.ones(6)"
   ]
  },
  {
   "cell_type": "code",
   "execution_count": 21,
   "metadata": {},
   "outputs": [
    {
     "data": {
      "text/plain": [
       "array([[ 0.,  0.,  0.,  0.,  0.],\n",
       "       [ 0.,  0.,  0.,  0.,  0.],\n",
       "       [ 0.,  0.,  0.,  0.,  0.],\n",
       "       [ 0.,  0.,  0.,  0.,  0.],\n",
       "       [ 0.,  0.,  0.,  0.,  0.]])"
      ]
     },
     "execution_count": 21,
     "metadata": {},
     "output_type": "execute_result"
    }
   ],
   "source": [
    "np.zeros((5,5))"
   ]
  },
  {
   "cell_type": "code",
   "execution_count": 7,
   "metadata": {},
   "outputs": [
    {
     "data": {
      "text/plain": [
       "array([[1., 1., 1., 1., 1.],\n",
       "       [1., 1., 1., 1., 1.],\n",
       "       [1., 1., 1., 1., 1.],\n",
       "       [1., 1., 1., 1., 1.],\n",
       "       [1., 1., 1., 1., 1.],\n",
       "       [1., 1., 1., 1., 1.]])"
      ]
     },
     "execution_count": 7,
     "metadata": {},
     "output_type": "execute_result"
    }
   ],
   "source": [
    "np.ones((6,5)) # it wil create matrix of one on 6 rows and 5 columns"
   ]
  },
  {
   "cell_type": "markdown",
   "metadata": {},
   "source": [
    "# linspace \n",
    "return evenly spaced numbers over a specified interval"
   ]
  },
  {
   "cell_type": "code",
   "execution_count": 23,
   "metadata": {},
   "outputs": [
    {
     "data": {
      "text/plain": [
       "array([  5.        ,   5.83333333,   6.66666667,   7.5       ,\n",
       "         8.33333333,   9.16666667,  10.        ])"
      ]
     },
     "execution_count": 23,
     "metadata": {},
     "output_type": "execute_result"
    }
   ],
   "source": [
    "np.linspace(5,10,7)"
   ]
  },
  {
   "cell_type": "code",
   "execution_count": 24,
   "metadata": {},
   "outputs": [
    {
     "data": {
      "text/plain": [
       "array([-1.        , -0.88888889, -0.77777778, -0.66666667, -0.55555556,\n",
       "       -0.44444444, -0.33333333, -0.22222222, -0.11111111,  0.        ])"
      ]
     },
     "execution_count": 24,
     "metadata": {},
     "output_type": "execute_result"
    }
   ],
   "source": [
    "np.linspace(-1,0,10)"
   ]
  },
  {
   "cell_type": "code",
   "execution_count": 25,
   "metadata": {},
   "outputs": [
    {
     "data": {
      "text/plain": [
       "array([   10.,   505.,  1000.])"
      ]
     },
     "execution_count": 25,
     "metadata": {},
     "output_type": "execute_result"
    }
   ],
   "source": [
    "np.linspace(10,1000,3)"
   ]
  },
  {
   "cell_type": "code",
   "execution_count": 26,
   "metadata": {},
   "outputs": [
    {
     "data": {
      "text/plain": [
       "array([   10.,  1000.])"
      ]
     },
     "execution_count": 26,
     "metadata": {},
     "output_type": "execute_result"
    }
   ],
   "source": [
    "np.linspace(10,1000,2)"
   ]
  },
  {
   "cell_type": "code",
   "execution_count": 27,
   "metadata": {},
   "outputs": [
    {
     "data": {
      "text/plain": [
       "array([ 10.])"
      ]
     },
     "execution_count": 27,
     "metadata": {},
     "output_type": "execute_result"
    }
   ],
   "source": [
    "np.linspace(10,1000,1)"
   ]
  },
  {
   "cell_type": "markdown",
   "metadata": {},
   "source": [
    "# eye\n",
    "creates an indentity matrix below are some examples\n",
    "All the elements of the matrix apart from the diagonal are zero.\n",
    "the indentity matrix for any matrix is going to be a square matrix."
   ]
  },
  {
   "cell_type": "code",
   "execution_count": 28,
   "metadata": {},
   "outputs": [
    {
     "data": {
      "text/plain": [
       "array([[ 1.,  0.],\n",
       "       [ 0.,  1.],\n",
       "       [ 0.,  0.]])"
      ]
     },
     "execution_count": 28,
     "metadata": {},
     "output_type": "execute_result"
    }
   ],
   "source": [
    "np.eye(3,2)"
   ]
  },
  {
   "cell_type": "code",
   "execution_count": 29,
   "metadata": {},
   "outputs": [
    {
     "data": {
      "text/plain": [
       "array([[ 1.,  0.,  0.],\n",
       "       [ 0.,  1.,  0.]])"
      ]
     },
     "execution_count": 29,
     "metadata": {},
     "output_type": "execute_result"
    }
   ],
   "source": [
    "np.eye(2,3)"
   ]
  },
  {
   "cell_type": "code",
   "execution_count": 30,
   "metadata": {},
   "outputs": [
    {
     "data": {
      "text/plain": [
       "array([[ 1.,  0.,  0.],\n",
       "       [ 0.,  1.,  0.],\n",
       "       [ 0.,  0.,  1.]])"
      ]
     },
     "execution_count": 30,
     "metadata": {},
     "output_type": "execute_result"
    }
   ],
   "source": [
    "np.eye(3,3) # this is a correct way to represent an identity matrix"
   ]
  },
  {
   "cell_type": "markdown",
   "metadata": {},
   "source": [
    "# Random\n",
    "Numpy also has various ways with which we can create array of random numbers (random number arrays)\n"
   ]
  },
  {
   "cell_type": "markdown",
   "metadata": {},
   "source": [
    "the first method is # rand \n",
    "which Create an array of the given shape and populate it with random samples from a uniform distribution over [0, 1)."
   ]
  },
  {
   "cell_type": "markdown",
   "metadata": {},
   "source": [
    "# rand"
   ]
  },
  {
   "cell_type": "markdown",
   "metadata": {},
   "source": [
    "#what is a unifrom distribution\n",
    "#a uniform distribution is a set of variables that all have the exact same possibility of happening. \n",
    "#This uniform distribution, when displayed as a bar graph, has the exact same height of each bar and a standard number of bars. \n",
    "#In this way, it typically looks like a rectangle and therefore is often described as the rectangle distribution. \n",
    "#If you think about the possibility of pulling each suit's face card from a deck of playing cards, there is a random yet equal chance of pulling the jack of hearts as there is for pulling the king of spades.\n",
    " In statistics, a type of probability distribution in which all outcomes are equally likely.\n",
    "#A deck of cards has a uniform distribution because the likelihood of drawing a heart, a club, a diamond or a spade is equally likely.\n",
    "#A coin also has a uniform distribution because the probability of getting either heads or tails in a coin toss is the same.\n"
   ]
  },
  {
   "cell_type": "code",
   "execution_count": 31,
   "metadata": {},
   "outputs": [
    {
     "data": {
      "text/plain": [
       "array([ 0.56870054,  0.76046803,  0.35411211,  0.18496201,  0.6085879 ])"
      ]
     },
     "execution_count": 31,
     "metadata": {},
     "output_type": "execute_result"
    }
   ],
   "source": [
    "np.random.rand(5) # the number 5 is how many numbers it will generate between 0 and 1 from a uniform distribution \n",
    "\n"
   ]
  },
  {
   "cell_type": "code",
   "execution_count": 32,
   "metadata": {},
   "outputs": [
    {
     "data": {
      "text/plain": [
       "array([[ 0.31386022,  0.63004937,  0.07647504,  0.20820138,  0.15864598],\n",
       "       [ 0.19521628,  0.10909564,  0.43112124,  0.25154938,  0.34070416],\n",
       "       [ 0.59030893,  0.95644554,  0.90498118,  0.77013231,  0.0248718 ],\n",
       "       [ 0.30378221,  0.91721596,  0.92099553,  0.14380567,  0.190043  ],\n",
       "       [ 0.51670568,  0.24197624,  0.28195057,  0.92358923,  0.60177798]])"
      ]
     },
     "execution_count": 32,
     "metadata": {},
     "output_type": "execute_result"
    }
   ],
   "source": [
    "np.random.rand(5,5)"
   ]
  },
  {
   "cell_type": "code",
   "execution_count": 33,
   "metadata": {},
   "outputs": [
    {
     "data": {
      "text/plain": [
       "array([[ 0.1136537 ,  0.01215439,  0.78414276,  0.62424806,  0.02848931],\n",
       "       [ 0.82528794,  0.2733241 ,  0.21985376,  0.31474875,  0.64505004],\n",
       "       [ 0.55133332,  0.81139683,  0.19625143,  0.05690624,  0.59467297],\n",
       "       [ 0.56196531,  0.68757863,  0.00723548,  0.74788805,  0.52617647],\n",
       "       [ 0.72373148,  0.07394714,  0.62269953,  0.24690499,  0.62988772],\n",
       "       [ 0.50060331,  0.06018511,  0.13474597,  0.62815463,  0.36047593]])"
      ]
     },
     "execution_count": 33,
     "metadata": {},
     "output_type": "execute_result"
    }
   ],
   "source": [
    "np.random.rand(6,5)"
   ]
  },
  {
   "cell_type": "code",
   "execution_count": 34,
   "metadata": {},
   "outputs": [
    {
     "data": {
      "text/plain": [
       "array([[ 0.19490887,  0.70684222,  0.02047275,  0.38771699,  0.74301288],\n",
       "       [ 0.04106055,  0.01317653,  0.21918184,  0.41976412,  0.76338513],\n",
       "       [ 0.76833516,  0.16036408,  0.31899139,  0.81498564,  0.72825245]])"
      ]
     },
     "execution_count": 34,
     "metadata": {},
     "output_type": "execute_result"
    }
   ],
   "source": [
    "np.random.rand(3,5)"
   ]
  },
  {
   "cell_type": "code",
   "execution_count": 35,
   "metadata": {},
   "outputs": [
    {
     "data": {
      "text/plain": [
       "array([[ 0.76085595]])"
      ]
     },
     "execution_count": 35,
     "metadata": {},
     "output_type": "execute_result"
    }
   ],
   "source": [
    "np.random.rand(1,1) # matrix with one row and one column"
   ]
  },
  {
   "cell_type": "markdown",
   "metadata": {},
   "source": [
    "# randn\n",
    "Return a sample (or samples) from the \"standard normal\" distribution. Unlike rand which is uniform\n",
    "Properties of normal distribution :The standard normal distribution is a normal distribution with a:\n",
    "mean of 0,\n",
    "standard deviation of 1.\n",
    "\n",
    "A normal distribution is a continuous probability distribution for a random variable x. The graph of a normal\n",
    "distribution is called the normal curve, which has all of the following properties:\n",
    "1. The mean, median, and mode are equal.\n",
    "2. The normal curve is bell-shaped and is symmetric about the mean.\n",
    "3. The total area under the curve is equal to one.\n",
    "4. The normal curve approaches, but never touches, the x-axis.\n",
    "5. Between µ − σ and µ + σ the graph is concave down and elsewhere the graph is concave up. The points at\n",
    "which the graph changes concavity are called inflection points"
   ]
  },
  {
   "cell_type": "code",
   "execution_count": 36,
   "metadata": {},
   "outputs": [
    {
     "data": {
      "text/plain": [
       "array([ 1.67427244, -0.90302583, -1.00092625,  1.06226877])"
      ]
     },
     "execution_count": 36,
     "metadata": {},
     "output_type": "execute_result"
    }
   ],
   "source": [
    "np.random.randn(4) # again the the number 4 is the number of values it will generate."
   ]
  },
  {
   "cell_type": "code",
   "execution_count": 37,
   "metadata": {},
   "outputs": [
    {
     "data": {
      "text/plain": [
       "array([[ 1.29402954, -2.23890789, -0.13174897, -0.28896542],\n",
       "       [-0.44387226,  0.77014545,  1.28181379,  0.45781549],\n",
       "       [-0.28081864,  0.25586636, -1.29418404,  0.84393632],\n",
       "       [-1.41599629, -0.15748644,  0.42846773,  2.43360404],\n",
       "       [ 1.1733322 ,  0.29101576,  0.37752698,  1.20736324],\n",
       "       [-1.35813665, -0.40765548,  0.21430258, -0.20219355]])"
      ]
     },
     "execution_count": 37,
     "metadata": {},
     "output_type": "execute_result"
    }
   ],
   "source": [
    "np.random.randn(6,4)"
   ]
  },
  {
   "cell_type": "markdown",
   "metadata": {},
   "source": [
    "# randint\n",
    "Return random integers from `low` (inclusive) to `high` (exclusive)."
   ]
  },
  {
   "cell_type": "code",
   "execution_count": 38,
   "metadata": {},
   "outputs": [
    {
     "data": {
      "text/plain": [
       "2"
      ]
     },
     "execution_count": 38,
     "metadata": {},
     "output_type": "execute_result"
    }
   ],
   "source": [
    "np.random.randint(1,10) # it will output a random integer in this case the default number of values it wil output is one \n",
    "#if you dont specify number of values you want in your output"
   ]
  },
  {
   "cell_type": "code",
   "execution_count": 39,
   "metadata": {},
   "outputs": [
    {
     "data": {
      "text/plain": [
       "array([37, 84, 99, 91, 17, 42, 98, 75, 97, 56])"
      ]
     },
     "execution_count": 39,
     "metadata": {},
     "output_type": "execute_result"
    }
   ],
   "source": [
    "np.random.randint(10,100,10) # it will output ten integers between 10 to 100"
   ]
  },
  {
   "cell_type": "markdown",
   "metadata": {},
   "source": [
    "# Array Attributes and Methods\n",
    "\n",
    "here we will see some useful methods and attributes of array"
   ]
  },
  {
   "cell_type": "code",
   "execution_count": 8,
   "metadata": {},
   "outputs": [],
   "source": [
    "arr = np.arange(25)\n",
    "ranarr = np.random.randint(0,50,10)"
   ]
  },
  {
   "cell_type": "code",
   "execution_count": 9,
   "metadata": {},
   "outputs": [
    {
     "data": {
      "text/plain": [
       "array([ 0,  1,  2,  3,  4,  5,  6,  7,  8,  9, 10, 11, 12, 13, 14, 15, 16,\n",
       "       17, 18, 19, 20, 21, 22, 23, 24])"
      ]
     },
     "execution_count": 9,
     "metadata": {},
     "output_type": "execute_result"
    }
   ],
   "source": [
    "arr"
   ]
  },
  {
   "cell_type": "code",
   "execution_count": 42,
   "metadata": {},
   "outputs": [
    {
     "data": {
      "text/plain": [
       "array([26, 39, 26,  9, 45, 33, 26,  8, 12, 19])"
      ]
     },
     "execution_count": 42,
     "metadata": {},
     "output_type": "execute_result"
    }
   ],
   "source": [
    "ranarr"
   ]
  },
  {
   "cell_type": "markdown",
   "metadata": {},
   "source": [
    "#  Reshape\n",
    "Returns an array containing the same data with a new shape."
   ]
  },
  {
   "cell_type": "code",
   "execution_count": 10,
   "metadata": {},
   "outputs": [
    {
     "data": {
      "text/plain": [
       "array([[ 0,  1,  2,  3,  4],\n",
       "       [ 5,  6,  7,  8,  9],\n",
       "       [10, 11, 12, 13, 14],\n",
       "       [15, 16, 17, 18, 19],\n",
       "       [20, 21, 22, 23, 24]])"
      ]
     },
     "execution_count": 10,
     "metadata": {},
     "output_type": "execute_result"
    }
   ],
   "source": [
    "arr.reshape(5,5)"
   ]
  },
  {
   "cell_type": "code",
   "execution_count": 44,
   "metadata": {
    "collapsed": true
   },
   "outputs": [],
   "source": [
    "# one important thing elements in the array should match the arguments you pass in the array.\n",
    "#in the above case it was (5,5) and there were 25 elements."
   ]
  },
  {
   "cell_type": "code",
   "execution_count": 12,
   "metadata": {},
   "outputs": [
    {
     "ename": "ValueError",
     "evalue": "cannot reshape array of size 25 into shape (5,4)",
     "output_type": "error",
     "traceback": [
      "\u001b[1;31m---------------------------------------------------------------------------\u001b[0m",
      "\u001b[1;31mValueError\u001b[0m                                Traceback (most recent call last)",
      "\u001b[1;32m<ipython-input-12-5edc0743672d>\u001b[0m in \u001b[0;36m<module>\u001b[1;34m()\u001b[0m\n\u001b[1;32m----> 1\u001b[1;33m \u001b[0marr\u001b[0m\u001b[1;33m.\u001b[0m\u001b[0mreshape\u001b[0m\u001b[1;33m(\u001b[0m\u001b[1;36m5\u001b[0m\u001b[1;33m,\u001b[0m\u001b[1;36m4\u001b[0m\u001b[1;33m)\u001b[0m \u001b[1;31m# here is the example of what happens\u001b[0m\u001b[1;33m\u001b[0m\u001b[0m\n\u001b[0m",
      "\u001b[1;31mValueError\u001b[0m: cannot reshape array of size 25 into shape (5,4)"
     ]
    }
   ],
   "source": [
    "arr.reshape(5,4) # here is the example of what happens"
   ]
  },
  {
   "cell_type": "code",
   "execution_count": 14,
   "metadata": {},
   "outputs": [
    {
     "data": {
      "text/plain": [
       "array([[32, 10],\n",
       "       [ 2, 15],\n",
       "       [36,  3],\n",
       "       [29, 19],\n",
       "       [17, 47]])"
      ]
     },
     "execution_count": 14,
     "metadata": {},
     "output_type": "execute_result"
    }
   ],
   "source": [
    "ranarr.reshape(5,2)"
   ]
  },
  {
   "cell_type": "markdown",
   "metadata": {
    "collapsed": true
   },
   "source": [
    "# max,min,argmax,argmin\n",
    "These are useful methods for finding max or min values. \n",
    "\n",
    "argmax and argmin are used for finding index location of the max value and the minimum value."
   ]
  },
  {
   "cell_type": "code",
   "execution_count": 49,
   "metadata": {},
   "outputs": [
    {
     "data": {
      "text/plain": [
       "45"
      ]
     },
     "execution_count": 49,
     "metadata": {},
     "output_type": "execute_result"
    }
   ],
   "source": [
    "ranarr.max()"
   ]
  },
  {
   "cell_type": "code",
   "execution_count": 50,
   "metadata": {},
   "outputs": [
    {
     "data": {
      "text/plain": [
       "8"
      ]
     },
     "execution_count": 50,
     "metadata": {},
     "output_type": "execute_result"
    }
   ],
   "source": [
    "ranarr.min()"
   ]
  },
  {
   "cell_type": "code",
   "execution_count": 51,
   "metadata": {},
   "outputs": [
    {
     "data": {
      "text/plain": [
       "4"
      ]
     },
     "execution_count": 51,
     "metadata": {},
     "output_type": "execute_result"
    }
   ],
   "source": [
    "ranarr.argmax()"
   ]
  },
  {
   "cell_type": "code",
   "execution_count": 52,
   "metadata": {},
   "outputs": [
    {
     "data": {
      "text/plain": [
       "7"
      ]
     },
     "execution_count": 52,
     "metadata": {},
     "output_type": "execute_result"
    }
   ],
   "source": [
    "ranarr.argmin()"
   ]
  },
  {
   "cell_type": "markdown",
   "metadata": {},
   "source": [
    "# Shape "
   ]
  },
  {
   "cell_type": "code",
   "execution_count": 54,
   "metadata": {
    "collapsed": true
   },
   "outputs": [],
   "source": [
    "# shape is used for getting the shape of array, whether it is one dimensional or two dimensional"
   ]
  },
  {
   "cell_type": "code",
   "execution_count": 55,
   "metadata": {},
   "outputs": [
    {
     "data": {
      "text/plain": [
       "(25,)"
      ]
     },
     "execution_count": 55,
     "metadata": {},
     "output_type": "execute_result"
    }
   ],
   "source": [
    "arr.shape"
   ]
  },
  {
   "cell_type": "code",
   "execution_count": 56,
   "metadata": {
    "collapsed": true
   },
   "outputs": [],
   "source": [
    "# if we want we can reshape it with our reshape method"
   ]
  },
  {
   "cell_type": "code",
   "execution_count": 57,
   "metadata": {},
   "outputs": [
    {
     "data": {
      "text/plain": [
       "(10,)"
      ]
     },
     "execution_count": 57,
     "metadata": {},
     "output_type": "execute_result"
    }
   ],
   "source": [
    "ranarr.shape"
   ]
  },
  {
   "cell_type": "code",
   "execution_count": null,
   "metadata": {
    "collapsed": true
   },
   "outputs": [],
   "source": [
    "# this marks the end of array first chapter."
   ]
  },
  {
   "cell_type": "markdown",
   "metadata": {},
   "source": [
    "NumPy mgrid vs. meshgrid\n",
    "Louis Tiao 2015-10-30 16:00 0 Comments Source\n",
    "The meshgrid function is useful for creating coordinate arrays to vectorize function evaluations over a grid. Experienced NumPy users will have noticed some discrepancy between meshgrid and the mgrid, a function that is used just as often, for exactly the same purpose. What is the discrepancy, and why does a discrepancy even exist when \"there should be one - and preferably only one - obvious way to do it.\" [1]\n",
    "\n",
    "First, recall that meshgrid behaves as follows:\n",
    "\n",
    ">>> import numpy as np\n",
    ">>> x1, y1 = np.meshgrid(np.arange(1, 11, 2), np.arange(-12, -3, 3))\n",
    ">>> x1\n",
    "array([[1, 3, 5, 7, 9],\n",
    "       [1, 3, 5, 7, 9],\n",
    "       [1, 3, 5, 7, 9]])\n",
    ">>> y1\n",
    "array([[-12, -12, -12, -12, -12],\n",
    "       [ -9,  -9,  -9,  -9,  -9],\n",
    "       [ -6,  -6,  -6,  -6,  -6]])\n",
    "If you have used NumPy for a while or are familiar enough with how Broadcasting works, you will have realized that meshgrid is actually superfluous for NumPy arrays, and that it is actually just an implementation of MATLAB's meshgrid, probably to cater to users coming from a MATLAB background.\n",
    "\n",
    "Observe the behavior of mgrid, which essentially returns the transpose of meshgrid:\n",
    "\n",
    ">>> x2, y2 = np.mgrid[1:11:2, -12:-3:3]\n",
    ">>> x2\n",
    "array([[1, 1, 1],\n",
    "       [3, 3, 3],\n",
    "       [5, 5, 5],\n",
    "       [7, 7, 7],\n",
    "       [9, 9, 9]])\n",
    ">>> y2\n",
    "array([[-12,  -9,  -6],\n",
    "       [-12,  -9,  -6],\n",
    "       [-12,  -9,  -6],\n",
    "       [-12,  -9,  -6],\n",
    "       [-12,  -9,  -6]])\n",
    ">>> np.all(x1 == x2.T)\n",
    "True\n",
    ">>> np.all(y2 == y2.T)\n",
    "True\n",
    "Note this this order is actually more natural, since mgrid just fleshes out the open (not fleshed out) grids given by ogrid by broadcasting them to form dense grids, i.e.\n",
    "\n",
    ">>> a, b = np.ogrid[1:11:2, -12:-3:3]\n",
    ">>> a\n",
    "array([[1],\n",
    "       [3],\n",
    "       [5],\n",
    "       [7],\n",
    "       [9]])\n",
    ">>> b\n",
    "array([[-12,  -9,  -6]])\n",
    "and the 5x1 array a is broadcasted with the 1x3 array b to form two 5x3 arrays\n",
    "\n",
    ">>> x2, y2 = np.broadcast_arrays(a, b)\n",
    ">>> x2\n",
    "array([[1, 1, 1],\n",
    "       [3, 3, 3],\n",
    "       [5, 5, 5],\n",
    "       [7, 7, 7],\n",
    "       [9, 9, 9]])\n",
    ">>> y2\n",
    "array([[-12,  -9,  -6],\n",
    "       [-12,  -9,  -6],\n",
    "       [-12,  -9,  -6],\n",
    "       [-12,  -9,  -6],\n",
    "       [-12,  -9,  -6]])\n",
    "which behaves exactly the same way as mgrid. Note that you seldom have to broadcast arrays explicitly, let alone use functions like mgrid or meshgrid, since all arithmetic operations on NumPy arrays already perform broadcasting implicitly. E.g.\n",
    "\n",
    ">>> x2 + y2\n",
    "array([[-11,  -8,  -5],\n",
    "       [ -9,  -6,  -3],\n",
    "       [ -7,  -4,  -1],\n",
    "       [ -5,  -2,   1],\n",
    "       [ -3,   0,   3]])\n",
    ">>> a + b\n",
    "array([[-11,  -8,  -5],\n",
    "       [ -9,  -6,  -3],\n",
    "       [ -7,  -4,  -1],\n",
    "       [ -5,  -2,   1],\n",
    "       [ -3,   0,   3]])\n",
    "Finally, if for some reason you must have output like that of meshgrid, just use mgrid with the arguments and unpacking targets reversed.\n",
    "\n",
    ">>> y3, x3 = np.mgrid[-12:-3:3, 1:11:2]\n",
    ">>> x3\n",
    "array([[1, 3, 5, 7, 9],\n",
    "       [1, 3, 5, 7, 9],\n",
    "       [1, 3, 5, 7, 9]])\n",
    ">>> y3\n",
    "array([[-12, -12, -12, -12, -12],\n",
    "       [ -9,  -9,  -9,  -9,  -9],\n",
    "       [ -6,  -6,  -6,  -6,  -6]])\n",
    ">>> np.all(x1 == x3)\n",
    "True\n",
    ">>> np.all(y1 == y3)\n",
    "True\n",
    "Of course, if you are using np.linspace instead of np.arange, then you're better off sticking with np.meshgrid.\n",
    "\n",
    "[1]\tPEP20 - The Zen of Python (https://www.python.org/dev/peps/pep-0020/)\n",
    "Further Reading\n",
    "http://stackoverflow.com/questions/12402045/mesh-grid-functions-in-python-meshgrid-mgrid-ogrid-ndgrid"
   ]
  },
  {
   "cell_type": "markdown",
   "metadata": {},
   "source": [
    "More elegant way to create a 2D matrix in Python [duplicate]\n",
    "\n",
    "Ask Question\n",
    "\n",
    "\n",
    "up vote\n",
    "13\n",
    "down vote\n",
    "favorite\n",
    "3\n",
    "Possible Duplicate:\n",
    "How to initialize a two-dimensional array in Python?\n",
    "I have always written this part of code in this way: every time I need it, I use this python code:\n",
    "\n",
    "for x in range(8):\n",
    "        a.append([])\n",
    "        for y in range(8):\n",
    "            a[x].append(0)\n",
    "However, I'd like to know if there's a way to beautify this piece of code. I mean, how do you create a bidimensional matrix in python, and fill it with 0?\n",
    "\n",
    "python loops matrix\n",
    "shareimprove this question\n",
    "edited May 23 at 12:34\n",
    "\n",
    "Community♦\n",
    "11\n",
    "asked Dec 10 '11 at 17:15\n",
    "\n",
    "user1068051\n",
    "921211\n",
    "marked as duplicate by senderle, Junuxx, Andy Hayden, Chris Gerken, Mark Nov 9 '12 at 0:43\n",
    "\n",
    "This question has been asked before and already has an answer. If those answers do not fully address your question, please ask a new question.\n",
    "\n",
    "  \t \t\n",
    "this problem is of declaring and initializing two dimensional array is explained nicely here – gaurav Dec 10 '11 at 17:22\n",
    "add a comment\n",
    "4 Answers\n",
    "active oldest votes\n",
    "up vote\n",
    "16\n",
    "down vote\n",
    "accepted\n",
    "Use nested list comprehensions:\n",
    "\n",
    "a = [[0 for y in range(8)] for x in range(8)]\n",
    "which is eqivalent to\n",
    "\n",
    "a = []\n",
    "for x in range(8):\n",
    "    row = []\n",
    "    for y in range(8):\n",
    "        row.append(0)\n",
    "    a.append(row)\n",
    "shareimprove this answer\n",
    "edited Feb 9 '15 at 19:38\n",
    "answered Dec 10 '11 at 17:16\n",
    "\n",
    "unutbu\n",
    "446k718901002\n",
    "add a comment\n",
    "\n",
    "\n",
    "up vote\n",
    "3\n",
    "down vote\n",
    "Try this:\n",
    "\n",
    "a = [[0]*8 for _ in xrange(8)]\n",
    "It uses list comprehensions and the fact that the * operator can be applied to lists for filling them with n copies of a given element.\n",
    "\n",
    "Or even better, write a generic function for returning matrices of a given size:\n",
    "\n",
    "# m: number of rows, n: number of columns\n",
    "def create_matrix(m, n):\n",
    "    return [[0]*n for _ in xrange(m)]\n",
    "\n",
    "a = create_matrix(8, 8)\n",
    "shareimprove this answer"
   ]
  },
  {
   "cell_type": "code",
   "execution_count": null,
   "metadata": {
    "collapsed": true
   },
   "outputs": [],
   "source": []
  }
 ],
 "metadata": {
  "kernelspec": {
   "display_name": "Python 3",
   "language": "python",
   "name": "python3"
  },
  "language_info": {
   "codemirror_mode": {
    "name": "ipython",
    "version": 3
   },
   "file_extension": ".py",
   "mimetype": "text/x-python",
   "name": "python",
   "nbconvert_exporter": "python",
   "pygments_lexer": "ipython3",
   "version": "3.6.5"
  }
 },
 "nbformat": 4,
 "nbformat_minor": 2
}
